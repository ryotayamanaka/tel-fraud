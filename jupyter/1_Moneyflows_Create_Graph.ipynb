{
 "cells": [
  {
   "cell_type": "markdown",
   "metadata": {},
   "source": [
    "## Connect"
   ]
  },
  {
   "cell_type": "code",
   "execution_count": 2,
   "metadata": {
    "scrolled": true
   },
   "outputs": [
    {
     "name": "stdout",
     "output_type": "stream",
     "text": [
      "PgxSession(id: 1ceae1ce-1cd1-403b-8a2e-ac31c449a7e3, name: python_pgx_client)\n"
     ]
    }
   ],
   "source": [
    "import json\n",
    "import os\n",
    "import platform\n",
    "import sys\n",
    "from urllib.request import Request, urlopen\n",
    "from urllib.error import HTTPError\n",
    "import pypgx as pgx\n",
    "\n",
    "base_url = \"https://localhost:7007\"\n",
    "username = \"moneyflows\"\n",
    "password = \"WELcome123##\"\n",
    "\n",
    "def generateToken():\n",
    "    body = json.dumps({ 'username': username, 'password': password }).encode('utf8')\n",
    "    headers = { 'content-type': 'application/json' }\n",
    "    request = Request(base_url + '/auth/token', data=body, headers=headers)\n",
    "    try:\n",
    "        response = urlopen(request).read().decode('utf-8')\n",
    "        return json.loads(response).get('access_token')\n",
    "    except HTTPError as err:\n",
    "        if err.code == 400:\n",
    "            print('Authentication failed no username/password given')\n",
    "        elif err.code == 401:\n",
    "            print('Authentication failed invalid username/password')\n",
    "        else:\n",
    "            print(\"Server returned HTTP response code: {} for URL: {}\".format(err.code, err.url))\n",
    "        os._exit(1)\n",
    " \n",
    "session = pgx.get_session(base_url=base_url, token=generateToken())\n",
    "analyst = session.create_analyst()\n",
    "print(session)"
   ]
  },
  {
   "cell_type": "code",
   "execution_count": 3,
   "metadata": {},
   "outputs": [
    {
     "data": {
      "text/plain": [
       "PgxGraph(name: hr, v: 215, e: 509, directed: True, memory(Mb): 0)"
      ]
     },
     "execution_count": 3,
     "metadata": {},
     "output_type": "execute_result"
    }
   ],
   "source": [
    "graph = session.get_graph(\"hr\")\n",
    "graph"
   ]
  },
  {
   "cell_type": "markdown",
   "metadata": {},
   "source": [
    "## Create Graph"
   ]
  },
  {
   "cell_type": "code",
   "execution_count": 4,
   "metadata": {},
   "outputs": [],
   "source": [
    "statement = '''\n",
    "CREATE PROPERTY GRAPH \"Moneyflows\"\n",
    "  VERTEX TABLES (\n",
    "    moneyflows.customer\n",
    "      KEY (cst_id)\n",
    "      LABEL customer\n",
    "      PROPERTIES (cst_id, first_name, last_name)\n",
    "  , moneyflows.account\n",
    "      KEY (acc_id)\n",
    "      LABEL account\n",
    "      PROPERTIES (acc_id)\n",
    "  )\n",
    "  EDGE TABLES (\n",
    "    moneyflows.transaction\n",
    "      KEY (txn_id)\n",
    "      SOURCE KEY(acc_id_src) REFERENCES account\n",
    "      DESTINATION KEY(acc_id_dst) REFERENCES account\n",
    "      LABEL transferred_to\n",
    "  , moneyflows.account\n",
    "      KEY (acc_id)\n",
    "      SOURCE KEY(cst_id) REFERENCES customer\n",
    "      DESTINATION KEY(acc_id) REFERENCES account\n",
    "      LABEL owns\n",
    "  )\n",
    "'''"
   ]
  },
  {
   "cell_type": "code",
   "execution_count": 5,
   "metadata": {},
   "outputs": [
    {
     "data": {
      "text/plain": [
       "False"
      ]
     },
     "execution_count": 5,
     "metadata": {},
     "output_type": "execute_result"
    }
   ],
   "source": [
    "session.prepare_pgql(statement).execute()"
   ]
  },
  {
   "cell_type": "code",
   "execution_count": 6,
   "metadata": {},
   "outputs": [
    {
     "data": {
      "text/plain": [
       "PgxGraph(name: Moneyflows, v: 18000, e: 309240, directed: True, memory(Mb): 17)"
      ]
     },
     "execution_count": 6,
     "metadata": {},
     "output_type": "execute_result"
    }
   ],
   "source": [
    "graph = session.get_graph(\"Moneyflows\")\n",
    "graph"
   ]
  },
  {
   "cell_type": "code",
   "execution_count": 7,
   "metadata": {},
   "outputs": [
    {
     "name": "stdout",
     "output_type": "stream",
     "text": [
      "+------------------------------------------------------+\n",
      "| a1_acc_id | datetime            | amount | a2_acc_id |\n",
      "+------------------------------------------------------+\n",
      "| 8001      | 2020-11-15 01:41:55 | 700.0  | 1160      |\n",
      "| 8001      | 2020-11-14 08:59:55 | 400.0  | 1398      |\n",
      "| 8001      | 2020-11-19 15:21:33 | 300.0  | 1398      |\n",
      "| 8001      | 2020-11-13 19:38:21 | 200.0  | 1398      |\n",
      "| 8001      | 2020-11-16 12:48:39 | 900.0  | 1642      |\n",
      "+------------------------------------------------------+\n",
      "\n"
     ]
    }
   ],
   "source": [
    "graph.query_pgql(\"\"\"\n",
    "SELECT a1.acc_id AS a1_acc_id, t.datetime, t.amount, a2.acc_id AS a2_acc_id\n",
    "FROM MATCH (a1)-[t:transferred_to]->(a2)\n",
    "LIMIT 5\n",
    "\"\"\").print()"
   ]
  },
  {
   "cell_type": "code",
   "execution_count": 8,
   "metadata": {},
   "outputs": [],
   "source": [
    "graph.publish()"
   ]
  },
  {
   "cell_type": "code",
   "execution_count": null,
   "metadata": {},
   "outputs": [],
   "source": []
  }
 ],
 "metadata": {
  "kernelspec": {
   "display_name": "Python 3",
   "language": "python",
   "name": "python3"
  },
  "language_info": {
   "codemirror_mode": {
    "name": "ipython",
    "version": 3
   },
   "file_extension": ".py",
   "mimetype": "text/x-python",
   "name": "python",
   "nbconvert_exporter": "python",
   "pygments_lexer": "ipython3",
   "version": "3.6.8"
  }
 },
 "nbformat": 4,
 "nbformat_minor": 4
}