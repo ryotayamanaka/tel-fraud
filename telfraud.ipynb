{
 "cells": [
  {
   "cell_type": "code",
   "execution_count": 16,
   "id": "2a872d26",
   "metadata": {},
   "outputs": [
    {
     "name": "stdout",
     "output_type": "stream",
     "text": [
      "PgxSession(id: 66e7b5f8-8203-45df-9cf9-091348499440, name: jupyter)\n"
     ]
    }
   ],
   "source": [
    "import pypgx.pg.rdbms.graph_server as graph_server\n",
    "\n",
    "base_url = \"https://localhost:7007\"\n",
    "username = \"telfraud\"\n",
    "password = \"WELcome123##\"\n",
    "\n",
    "instance = graph_server.get_instance(base_url, username, password)\n",
    "session = instance.create_session(\"jupyter\")\n",
    "analyst = session.create_analyst()\n",
    "\n",
    "print(session)"
   ]
  },
  {
   "cell_type": "code",
   "execution_count": 126,
   "id": "42d92add",
   "metadata": {},
   "outputs": [],
   "source": [
    "statement = \"\"\"\n",
    "CREATE PROPERTY GRAPH \"telfraud\"\n",
    "  VERTEX TABLES (\n",
    "    telfraud.customer\n",
    "      KEY (cst_id)\n",
    "      LABEL customer\n",
    "      PROPERTIES (cst_id, first_name, last_name)\n",
    "  , telfraud.account\n",
    "      KEY (acc_id)\n",
    "      LABEL account\n",
    "      PROPERTIES (acc_id, tel_number, is_suspect, is_victim)\n",
    "  )\n",
    "  EDGE TABLES (\n",
    "    telfraud.transaction\n",
    "      KEY (txn_id)\n",
    "      SOURCE KEY(acc_id_src) REFERENCES account\n",
    "      DESTINATION KEY(acc_id_dst) REFERENCES account\n",
    "      LABEL called \n",
    "  , telfraud.account\n",
    "      KEY (acc_id)\n",
    "      SOURCE KEY(cst_id) REFERENCES customer\n",
    "      DESTINATION KEY(acc_id) REFERENCES account\n",
    "      LABEL owns\n",
    "  )\n",
    "\"\"\""
   ]
  },
  {
   "cell_type": "code",
   "execution_count": 127,
   "id": "76ad67c8",
   "metadata": {},
   "outputs": [
    {
     "data": {
      "text/plain": [
       "False"
      ]
     },
     "execution_count": 127,
     "metadata": {},
     "output_type": "execute_result"
    }
   ],
   "source": [
    "session.prepare_pgql(statement).execute()"
   ]
  },
  {
   "cell_type": "code",
   "execution_count": 124,
   "id": "1e960b01",
   "metadata": {},
   "outputs": [
    {
     "data": {
      "text/plain": [
       "PgxGraph(name: telfraud, v: 180, e: 2884, directed: True, memory(Mb): 0)"
      ]
     },
     "execution_count": 124,
     "metadata": {},
     "output_type": "execute_result"
    }
   ],
   "source": [
    "graph = session.get_graph(\"telfraud\")\n",
    "graph"
   ]
  },
  {
   "cell_type": "code",
   "execution_count": 129,
   "id": "43f2ad1a",
   "metadata": {},
   "outputs": [],
   "source": [
    "graph.destroy()"
   ]
  },
  {
   "cell_type": "code",
   "execution_count": 134,
   "id": "b9545709",
   "metadata": {},
   "outputs": [],
   "source": [
    "statement = \"\"\"\n",
    "CREATE PROPERTY GRAPH \"telfraud_call\"\n",
    "  VERTEX TABLES (\n",
    "    telfraud.account\n",
    "      KEY (acc_id)\n",
    "      LABEL account\n",
    "      PROPERTIES (acc_id, tel_number, is_suspect, is_victim)\n",
    "  )\n",
    "  EDGE TABLES (\n",
    "    telfraud.transaction\n",
    "      KEY (txn_id)\n",
    "      SOURCE KEY(acc_id_src) REFERENCES account\n",
    "      DESTINATION KEY(acc_id_dst) REFERENCES account\n",
    "      LABEL called \n",
    "  )\n",
    "\"\"\""
   ]
  },
  {
   "cell_type": "code",
   "execution_count": 135,
   "id": "74b1e05f",
   "metadata": {},
   "outputs": [
    {
     "data": {
      "text/plain": [
       "False"
      ]
     },
     "execution_count": 135,
     "metadata": {},
     "output_type": "execute_result"
    }
   ],
   "source": [
    "session.prepare_pgql(statement).execute()"
   ]
  },
  {
   "cell_type": "code",
   "execution_count": 136,
   "id": "e65f3365",
   "metadata": {},
   "outputs": [
    {
     "data": {
      "text/plain": [
       "PgxGraph(name: telfraud_call, v: 100, e: 2787, directed: True, memory(Mb): 0)"
      ]
     },
     "execution_count": 136,
     "metadata": {},
     "output_type": "execute_result"
    }
   ],
   "source": [
    "graph = session.get_graph(\"telfraud_call\")\n",
    "graph"
   ]
  },
  {
   "cell_type": "code",
   "execution_count": 137,
   "id": "986c6f77",
   "metadata": {},
   "outputs": [
    {
     "name": "stdout",
     "output_type": "stream",
     "text": [
      "+-------------------------------------------------+\n",
      "| acc_id | tel_number    | is_suspect | is_victim |\n",
      "+-------------------------------------------------+\n",
      "| 0      | 080-7890-1495 | 1          | 0         |\n",
      "| 2      | 070-2500-2041 | 1          | 0         |\n",
      "| 4      | 070-5969-2266 | 1          | 0         |\n",
      "| 6      | 070-8946-4213 | 1          | 0         |\n",
      "| 8      | 070-7068-5611 | 1          | 0         |\n",
      "| 64     | 080-3045-8743 | 0          | 1         |\n",
      "| 66     | 070-6111-6340 | 0          | 1         |\n",
      "| 74     | 070-6230-2482 | 0          | 1         |\n",
      "| 1      | 070-2033-4132 | 1          | 0         |\n",
      "| 3      | 070-9916-2602 | 1          | 0         |\n",
      "| 5      | 080-6874-9484 | 1          | 0         |\n",
      "| 7      | 080-3471-5851 | 1          | 0         |\n",
      "| 9      | 080-7116-4282 | 1          | 0         |\n",
      "+-------------------------------------------------+\n",
      "\n"
     ]
    }
   ],
   "source": [
    "graph.query_pgql(\"\"\"\n",
    "SELECT a.acc_id, a.tel_number, a.is_suspect, a.is_victim\n",
    "FROM MATCH (a)\n",
    "WHERE a.is_suspect = 1 OR a.is_victim = 1\n",
    "LIMIT 15\n",
    "\"\"\").print()"
   ]
  },
  {
   "cell_type": "code",
   "execution_count": 138,
   "id": "13ad2dfb",
   "metadata": {},
   "outputs": [
    {
     "name": "stdout",
     "output_type": "stream",
     "text": [
      "+-----------------------------------------------------+\n",
      "| a1            | a2            | datetime            |\n",
      "+-----------------------------------------------------+\n",
      "| 080-7890-1495 | 070-4361-6313 | 2020-11-11T06:58:49 |\n",
      "| 080-7890-1495 | 070-4361-6313 | 2020-11-15T01:41:55 |\n",
      "| 080-7890-1495 | 070-4361-6313 | 2020-11-18T05:22:43 |\n",
      "| 080-7890-1495 | 080-1956-1255 | 2020-11-17T19:09:53 |\n",
      "| 080-7890-1495 | 080-1956-1255 | 2020-11-19T15:21:33 |\n",
      "+-----------------------------------------------------+\n",
      "\n"
     ]
    }
   ],
   "source": [
    "graph.query_pgql(\"\"\"\n",
    "SELECT a1.tel_number AS a1, a2.tel_number AS a2, c.datetime\n",
    "FROM MATCH (a1)-[c:CALLED]->(a2)\n",
    "LIMIT 5\n",
    "\"\"\").print()"
   ]
  },
  {
   "cell_type": "code",
   "execution_count": 139,
   "id": "a86768b0",
   "metadata": {},
   "outputs": [
    {
     "data": {
      "text/plain": [
       "VertexProperty(name: in_degree, type: integer, graph: telfraud_call)"
      ]
     },
     "execution_count": 139,
     "metadata": {},
     "output_type": "execute_result"
    }
   ],
   "source": [
    "analyst.in_degree_centrality(graph)"
   ]
  },
  {
   "cell_type": "code",
   "execution_count": 140,
   "id": "72afc567",
   "metadata": {},
   "outputs": [
    {
     "data": {
      "text/plain": [
       "VertexProperty(name: out_degree, type: integer, graph: telfraud_call)"
      ]
     },
     "execution_count": 140,
     "metadata": {},
     "output_type": "execute_result"
    }
   ],
   "source": [
    "analyst.out_degree_centrality(graph)"
   ]
  },
  {
   "cell_type": "code",
   "execution_count": 141,
   "id": "cd0a6584",
   "metadata": {},
   "outputs": [
    {
     "name": "stdout",
     "output_type": "stream",
     "text": [
      "+--------------------------------------------------------------+\n",
      "| acc_id | tel_number    | in_degree | out_degree | is_suspect |\n",
      "+--------------------------------------------------------------+\n",
      "| 0      | 080-7890-1495 | 1         | 40         | 1          |\n",
      "| 2      | 070-2500-2041 | 0         | 9          | 1          |\n",
      "| 4      | 070-5969-2266 | 0         | 20         | 1          |\n",
      "| 6      | 070-8946-4213 | 1         | 50         | 1          |\n",
      "| 8      | 070-7068-5611 | 0         | 16         | 1          |\n",
      "| 1      | 070-2033-4132 | 0         | 20         | 1          |\n",
      "| 3      | 070-9916-2602 | 0         | 20         | 1          |\n",
      "| 5      | 080-6874-9484 | 1         | 47         | 1          |\n",
      "| 7      | 080-3471-5851 | 0         | 29         | 1          |\n",
      "| 9      | 080-7116-4282 | 0         | 38         | 1          |\n",
      "+--------------------------------------------------------------+\n",
      "\n"
     ]
    }
   ],
   "source": [
    "graph.query_pgql(\"\"\"\n",
    "SELECT a.acc_id, a.tel_number, a.in_degree, a.out_degree, a.is_suspect\n",
    "FROM MATCH (a)\n",
    "WHERE in_degree < 5\n",
    "LIMIT 100\n",
    "\"\"\").print()"
   ]
  },
  {
   "cell_type": "code",
   "execution_count": null,
   "id": "37def72d",
   "metadata": {},
   "outputs": [],
   "source": []
  }
 ],
 "metadata": {
  "kernelspec": {
   "display_name": "Python 3",
   "language": "python",
   "name": "python3"
  },
  "language_info": {
   "codemirror_mode": {
    "name": "ipython",
    "version": 3
   },
   "file_extension": ".py",
   "mimetype": "text/x-python",
   "name": "python",
   "nbconvert_exporter": "python",
   "pygments_lexer": "ipython3",
   "version": "3.6.8"
  }
 },
 "nbformat": 4,
 "nbformat_minor": 5
}
